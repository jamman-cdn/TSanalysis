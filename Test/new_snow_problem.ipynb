{
 "cells": [
  {
   "cell_type": "code",
   "execution_count": null,
   "metadata": {},
   "outputs": [],
   "source": [
    ""
   ]
  },
  {
   "cell_type": "code",
   "execution_count": 1,
   "metadata": {},
   "outputs": [],
   "source": [
    "import numpy as np"
   ]
  },
  {
   "cell_type": "code",
   "execution_count": 73,
   "metadata": {},
   "outputs": [],
   "source": [
    "new_snow_cat = [\"0-5\", \"5-10\", \"10-15\", \"15-20\"]\n",
    "new_snow_thres = {(0, 5): 0.2, (5, 10): 0.5, (10, 15): 1, (15, 20): 3}\n",
    "\n",
    "wind_cat = [\"0-3\", \"4-7\", \"8-10\", \"10-15\", \"16-30\"]\n",
    "wind_thres = {(0, 3): 0.2, (3, 7): 1, (7, 10): 2, (10, 15): 0.2, (15, 30): 0.01}\n",
    "\n",
    "\n",
    "new_snow_region = np.array([[0, 4, 6, 18],\n",
    "                             [0, 4, 6, 18],\n",
    "                             [0, 4, 6, 18]])\n",
    "\n",
    "wind_region = np.array([[0, 4, 12, 18],\n",
    "                         [4, 0, 18, 6],\n",
    "                         [18, 12, 6, 0]])"
   ]
  },
  {
   "cell_type": "code",
   "execution_count": 74,
   "metadata": {},
   "outputs": [],
   "source": [
    "def get_score(a, score_dict):\n",
    "    for key, value in score_dict.items():\n",
    "        if key[0] <= a < key[1]:\n",
    "    #    if a < key:\n",
    "            return value\n",
    "            break\n",
    "    return None"
   ]
  },
  {
   "cell_type": "markdown",
   "metadata": {},
   "source": [
    "the dict is not sorted and the comparison *less than* is random..."
   ]
  },
  {
   "cell_type": "code",
   "execution_count": 75,
   "metadata": {},
   "outputs": [
    {
     "name": "stdout",
     "output_type": "stream",
     "text": [
      "[[ 0.2  0.2  0.5  3. ]\n",
      " [ 0.2  0.2  0.5  3. ]\n",
      " [ 0.2  0.2  0.5  3. ]]\n"
     ]
    }
   ],
   "source": [
    "new_snow_region_score = [get_score(a, new_snow_thres) for a in new_snow_region.flatten()]\n",
    "new_snow_region_score = np.array(new_snow_region_score).reshape(new_snow_region.shape)\n",
    "print(new_snow_region_score)"
   ]
  },
  {
   "cell_type": "code",
   "execution_count": 76,
   "metadata": {},
   "outputs": [
    {
     "name": "stdout",
     "output_type": "stream",
     "text": [
      "[[ 0.2   1.    0.2   0.01]\n",
      " [ 1.    0.2   0.01  1.  ]\n",
      " [ 0.01  0.2   1.    0.2 ]]\n"
     ]
    }
   ],
   "source": [
    "wind_region_score = [get_score(a, wind_thres) for a in wind_region.flatten()]\n",
    "wind_region_score = np.array(wind_region_score).reshape(wind_region.shape)\n",
    "print(wind_region_score)"
   ]
  },
  {
   "cell_type": "code",
   "execution_count": 77,
   "metadata": {},
   "outputs": [
    {
     "name": "stdout",
     "output_type": "stream",
     "text": [
      "[[  4.00000000e-02   2.00000000e-01   1.00000000e-01   3.00000000e-02]\n",
      " [  2.00000000e-01   4.00000000e-02   5.00000000e-03   3.00000000e+00]\n",
      " [  2.00000000e-03   4.00000000e-02   5.00000000e-01   6.00000000e-01]]\n"
     ]
    }
   ],
   "source": [
    "print(wind_region_score * new_snow_region_score)"
   ]
  },
  {
   "cell_type": "code",
   "execution_count": null,
   "metadata": {},
   "outputs": [],
   "source": [
    ""
   ]
  }
 ],
 "metadata": {
  "kernelspec": {
   "display_name": "Python 3",
   "language": "python",
   "name": "python3"
  },
  "language_info": {
   "codemirror_mode": {
    "name": "ipython",
    "version": 3.0
   },
   "file_extension": ".py",
   "mimetype": "text/x-python",
   "name": "python",
   "nbconvert_exporter": "python",
   "pygments_lexer": "ipython3",
   "version": "3.4.3"
  }
 },
 "nbformat": 4,
 "nbformat_minor": 0
}